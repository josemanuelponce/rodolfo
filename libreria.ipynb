{
 "cells": [
  {
   "cell_type": "code",
   "execution_count": null,
   "metadata": {},
   "outputs": [],
   "source": [
    "import pandas as pd\n",
    "import sqlite3\n",
    "import numpy as np\n",
    "\n",
    "con = sqlite3.connect(\"portal_mammals.sqlite\")"
   ]
  },
  {
   "cell_type": "code",
   "execution_count": null,
   "metadata": {},
   "outputs": [],
   "source": [
    "Items = [\n",
    "\t['Agua','Infantil','Jose'],\n",
    "\t['Mar','Narrativo','Rafa'],\n",
    "\t['Bosque','Infantil','Jose'],\n",
    "\t['Arbol','Lirico','Juan'],\n",
    "\t['Abedul','Dramatico','Lorenzo'],\n",
    "    ['Oceano','Infantil','Jose'],\n",
    "\t['Infierno','Narrativo','Rafa'],\n",
    "\t['Cielo','Infantil','Jose'],\n",
    "\t['Naufrago','Lirico','Juan'],\n",
    "\t['Ordenador','Dramatico','Lorenzo'],\n",
    "    ['Barco','Narrativo','Rafa'],\n",
    "\t['Pajaros','Infantil','Jose'],\n",
    "\t['Azul','Lirico','Gonzalo'],\n",
    "\t['Rojo','Dramatico','Lorenzo'],\n",
    "    ['Cuerpo','Dramatico','Rodolfo']\n",
    "]\n"
   ]
  },
  {
   "cell_type": "code",
   "execution_count": null,
   "metadata": {},
   "outputs": [],
   "source": [
    "Users=[\n",
    "    ['Grupo Vall Companys','Madrid',635248709,'sevemaf134@chotunai.com'],"
   ]
  }
 ],
 "metadata": {
  "kernelspec": {
   "display_name": "Python 3",
   "language": "python",
   "name": "python3"
  },
  "language_info": {
   "name": "python",
   "version": "3.11.1"
  },
  "orig_nbformat": 4,
  "vscode": {
   "interpreter": {
    "hash": "4a14401a3f83173c70f26b411e9b11214cdeef7ebca697ce79ea93a40a354818"
   }
  }
 },
 "nbformat": 4,
 "nbformat_minor": 2
}
